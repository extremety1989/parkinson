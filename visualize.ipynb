{
 "cells": [
  {
   "cell_type": "code",
   "execution_count": 14,
   "metadata": {},
   "outputs": [
    {
     "data": {
      "application/vnd.jupyter.widget-view+json": {
       "model_id": "9b1657380bbb4146a326014781a72b40",
       "version_major": 2,
       "version_minor": 0
      },
      "text/plain": [
       "interactive(children=(IntSlider(value=0, continuous_update=False, description='Slice index:', max=180), Output…"
      ]
     },
     "metadata": {},
     "output_type": "display_data"
    }
   ],
   "source": [
    "from helpers import *\n",
    "import ants\n",
    "import os\n",
    "%matplotlib inline\n",
    "\n",
    "nifti_path = os.path.join(\"C:/Users/andre/parkinson/NIfTI/221757/3D_T2_FLAIR/2023-05-23_13_04_56.0/I1718319/warped_brain.nii.gz\")\n",
    "\n",
    "nifti_temp1 = ants.image_read(nifti_path, reorient='ASR')\n",
    "\n",
    "nifti_temp2 = ants.image_read(nifti_path, reorient='IAL')\n",
    "\n",
    "nifti_temp3 = ants.image_read(nifti_path, reorient='RSP')\n",
    "explore_3D_of_3arrays(nifti_temp1, nifti_temp2, nifti_temp3)\n",
    "# explore_3D_array(nifti_temp2.numpy())"
   ]
  }
 ],
 "metadata": {
  "kernelspec": {
   "display_name": "Python 3",
   "language": "python",
   "name": "python3"
  },
  "language_info": {
   "codemirror_mode": {
    "name": "ipython",
    "version": 3
   },
   "file_extension": ".py",
   "mimetype": "text/x-python",
   "name": "python",
   "nbconvert_exporter": "python",
   "pygments_lexer": "ipython3",
   "version": "3.9.18"
  }
 },
 "nbformat": 4,
 "nbformat_minor": 2
}
