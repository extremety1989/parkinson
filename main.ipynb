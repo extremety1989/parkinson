{
 "cells": [
  {
   "cell_type": "code",
   "execution_count": null,
   "metadata": {},
   "outputs": [],
   "source": [
    "# %pip install -U matplotlib\n",
    "# %pip install SimpleITK\n",
    "# %pip install ipywidgets\n",
    "# %pip install opencv-python\n",
    "# %pip install antspyx\n",
    "# %pip install tf-keras\n",
    "# %pip install --upgrade tensorflow-probability\n",
    "# %pip install antspynet\n",
    "# %pip install templateflow\n",
    "# %pip install seaborn"
   ]
  },
  {
   "cell_type": "code",
   "execution_count": 1,
   "metadata": {},
   "outputs": [],
   "source": [
    "import pandas as pd\n",
    "from PIL import Image\n",
    "\n",
    "import matplotlib.pyplot as plt\n",
    "%matplotlib inline\n",
    "import numpy as np\n"
   ]
  },
  {
   "cell_type": "code",
   "execution_count": 2,
   "metadata": {},
   "outputs": [
    {
     "data": {
      "text/html": [
       "<div>\n",
       "<style scoped>\n",
       "    .dataframe tbody tr th:only-of-type {\n",
       "        vertical-align: middle;\n",
       "    }\n",
       "\n",
       "    .dataframe tbody tr th {\n",
       "        vertical-align: top;\n",
       "    }\n",
       "\n",
       "    .dataframe thead th {\n",
       "        text-align: right;\n",
       "    }\n",
       "</style>\n",
       "<table border=\"1\" class=\"dataframe\">\n",
       "  <thead>\n",
       "    <tr style=\"text-align: right;\">\n",
       "      <th></th>\n",
       "      <th>PATNO</th>\n",
       "      <th>COHORT</th>\n",
       "      <th>COHORT_DEFINITION</th>\n",
       "      <th>ENROLL_DATE</th>\n",
       "      <th>ENROLL_STATUS</th>\n",
       "      <th>STATUS_DATE</th>\n",
       "      <th>ENROLL_AGE</th>\n",
       "      <th>INEXPAGE</th>\n",
       "      <th>AV133STDY</th>\n",
       "      <th>TAUSTDY</th>\n",
       "      <th>...</th>\n",
       "      <th>COMMENTS</th>\n",
       "      <th>CONDATE</th>\n",
       "      <th>ENRLPINK1</th>\n",
       "      <th>ENRLPRKN</th>\n",
       "      <th>ENRLSRDC</th>\n",
       "      <th>ENRLHPSM</th>\n",
       "      <th>ENRLRBD</th>\n",
       "      <th>ENRLLRRK2</th>\n",
       "      <th>ENRLSNCA</th>\n",
       "      <th>ENRLGBA</th>\n",
       "    </tr>\n",
       "  </thead>\n",
       "  <tbody>\n",
       "    <tr>\n",
       "      <th>0</th>\n",
       "      <td>3000</td>\n",
       "      <td>2</td>\n",
       "      <td>Healthy Control</td>\n",
       "      <td>02/2011</td>\n",
       "      <td>Enrolled</td>\n",
       "      <td>05/2021</td>\n",
       "      <td>69.1</td>\n",
       "      <td>INEXHC</td>\n",
       "      <td>0.0</td>\n",
       "      <td>0.0</td>\n",
       "      <td>...</td>\n",
       "      <td>NaN</td>\n",
       "      <td>10/2023</td>\n",
       "      <td>0.0</td>\n",
       "      <td>0.0</td>\n",
       "      <td>0.0</td>\n",
       "      <td>0</td>\n",
       "      <td>0</td>\n",
       "      <td>0</td>\n",
       "      <td>0</td>\n",
       "      <td>0</td>\n",
       "    </tr>\n",
       "    <tr>\n",
       "      <th>1</th>\n",
       "      <td>3001</td>\n",
       "      <td>1</td>\n",
       "      <td>Parkinson's Disease</td>\n",
       "      <td>03/2011</td>\n",
       "      <td>Enrolled</td>\n",
       "      <td>09/2021</td>\n",
       "      <td>65.1</td>\n",
       "      <td>INEXPD</td>\n",
       "      <td>0.0</td>\n",
       "      <td>0.0</td>\n",
       "      <td>...</td>\n",
       "      <td>NaN</td>\n",
       "      <td>10/2023</td>\n",
       "      <td>0.0</td>\n",
       "      <td>0.0</td>\n",
       "      <td>1.0</td>\n",
       "      <td>0</td>\n",
       "      <td>0</td>\n",
       "      <td>0</td>\n",
       "      <td>0</td>\n",
       "      <td>0</td>\n",
       "    </tr>\n",
       "    <tr>\n",
       "      <th>2</th>\n",
       "      <td>3002</td>\n",
       "      <td>1</td>\n",
       "      <td>Parkinson's Disease</td>\n",
       "      <td>03/2011</td>\n",
       "      <td>Enrolled</td>\n",
       "      <td>09/2021</td>\n",
       "      <td>67.6</td>\n",
       "      <td>INEXPD</td>\n",
       "      <td>0.0</td>\n",
       "      <td>0.0</td>\n",
       "      <td>...</td>\n",
       "      <td>NaN</td>\n",
       "      <td>10/2023</td>\n",
       "      <td>0.0</td>\n",
       "      <td>0.0</td>\n",
       "      <td>1.0</td>\n",
       "      <td>0</td>\n",
       "      <td>0</td>\n",
       "      <td>0</td>\n",
       "      <td>0</td>\n",
       "      <td>0</td>\n",
       "    </tr>\n",
       "    <tr>\n",
       "      <th>3</th>\n",
       "      <td>3003</td>\n",
       "      <td>1</td>\n",
       "      <td>Parkinson's Disease</td>\n",
       "      <td>04/2011</td>\n",
       "      <td>Enrolled</td>\n",
       "      <td>01/2022</td>\n",
       "      <td>56.7</td>\n",
       "      <td>INEXPD</td>\n",
       "      <td>0.0</td>\n",
       "      <td>0.0</td>\n",
       "      <td>...</td>\n",
       "      <td>NaN</td>\n",
       "      <td>10/2023</td>\n",
       "      <td>0.0</td>\n",
       "      <td>0.0</td>\n",
       "      <td>1.0</td>\n",
       "      <td>0</td>\n",
       "      <td>0</td>\n",
       "      <td>0</td>\n",
       "      <td>0</td>\n",
       "      <td>0</td>\n",
       "    </tr>\n",
       "    <tr>\n",
       "      <th>4</th>\n",
       "      <td>3004</td>\n",
       "      <td>2</td>\n",
       "      <td>Healthy Control</td>\n",
       "      <td>04/2011</td>\n",
       "      <td>Enrolled</td>\n",
       "      <td>01/2022</td>\n",
       "      <td>59.4</td>\n",
       "      <td>INEXHC</td>\n",
       "      <td>0.0</td>\n",
       "      <td>0.0</td>\n",
       "      <td>...</td>\n",
       "      <td>NaN</td>\n",
       "      <td>10/2023</td>\n",
       "      <td>0.0</td>\n",
       "      <td>0.0</td>\n",
       "      <td>0.0</td>\n",
       "      <td>0</td>\n",
       "      <td>0</td>\n",
       "      <td>0</td>\n",
       "      <td>0</td>\n",
       "      <td>0</td>\n",
       "    </tr>\n",
       "  </tbody>\n",
       "</table>\n",
       "<p>5 rows × 40 columns</p>\n",
       "</div>"
      ],
      "text/plain": [
       "   PATNO  COHORT    COHORT_DEFINITION ENROLL_DATE ENROLL_STATUS STATUS_DATE  \\\n",
       "0   3000       2      Healthy Control     02/2011      Enrolled     05/2021   \n",
       "1   3001       1  Parkinson's Disease     03/2011      Enrolled     09/2021   \n",
       "2   3002       1  Parkinson's Disease     03/2011      Enrolled     09/2021   \n",
       "3   3003       1  Parkinson's Disease     04/2011      Enrolled     01/2022   \n",
       "4   3004       2      Healthy Control     04/2011      Enrolled     01/2022   \n",
       "\n",
       "   ENROLL_AGE INEXPAGE  AV133STDY  TAUSTDY  ...  COMMENTS  CONDATE  ENRLPINK1  \\\n",
       "0        69.1   INEXHC        0.0      0.0  ...       NaN  10/2023        0.0   \n",
       "1        65.1   INEXPD        0.0      0.0  ...       NaN  10/2023        0.0   \n",
       "2        67.6   INEXPD        0.0      0.0  ...       NaN  10/2023        0.0   \n",
       "3        56.7   INEXPD        0.0      0.0  ...       NaN  10/2023        0.0   \n",
       "4        59.4   INEXHC        0.0      0.0  ...       NaN  10/2023        0.0   \n",
       "\n",
       "  ENRLPRKN  ENRLSRDC ENRLHPSM  ENRLRBD  ENRLLRRK2  ENRLSNCA  ENRLGBA  \n",
       "0      0.0       0.0        0        0          0         0        0  \n",
       "1      0.0       1.0        0        0          0         0        0  \n",
       "2      0.0       1.0        0        0          0         0        0  \n",
       "3      0.0       1.0        0        0          0         0        0  \n",
       "4      0.0       0.0        0        0          0         0        0  \n",
       "\n",
       "[5 rows x 40 columns]"
      ]
     },
     "execution_count": 2,
     "metadata": {},
     "output_type": "execute_result"
    }
   ],
   "source": [
    "#https://ida.loni.usc.edu/pages/access/studyData.jsp?categoryId=2&subCategoryId=55\n",
    "df = pd.read_csv('Participant_Status_22Mar2024.csv')\n",
    "df.head()"
   ]
  },
  {
   "cell_type": "code",
   "execution_count": null,
   "metadata": {},
   "outputs": [],
   "source": [
    "df.columns"
   ]
  },
  {
   "cell_type": "code",
   "execution_count": null,
   "metadata": {},
   "outputs": [],
   "source": [
    "# df = df[condition]\n",
    "df[\"COHORT\"].value_counts()"
   ]
  },
  {
   "cell_type": "code",
   "execution_count": null,
   "metadata": {},
   "outputs": [],
   "source": [
    "df[\"ENROLL_STATUS\"].value_counts()"
   ]
  },
  {
   "cell_type": "code",
   "execution_count": null,
   "metadata": {},
   "outputs": [],
   "source": [
    "condition = df[\"ENROLL_STATUS\"].isin([\"Complete\", \"Withdrew\", \"Enrolled\", \"Baseline\"])\n",
    "df[condition][\"COHORT\"].value_counts()\n",
    "#her"
   ]
  },
  {
   "cell_type": "code",
   "execution_count": null,
   "metadata": {},
   "outputs": [],
   "source": [
    "condition = df[\"ENROLL_STATUS\"].isin([\"Enrolled\"])\n",
    "df[condition][\"COHORT\"].value_counts()"
   ]
  },
  {
   "cell_type": "code",
   "execution_count": null,
   "metadata": {},
   "outputs": [],
   "source": [
    "condition = df[\"ENROLL_STATUS\"].isin([\"Complete\", \"Withdrew\"])\n",
    "df[condition][\"COHORT\"].value_counts()"
   ]
  },
  {
   "cell_type": "code",
   "execution_count": null,
   "metadata": {},
   "outputs": [],
   "source": [
    "condition = df[\"ENROLL_STATUS\"].isin([\"Complete\", \"Withdrew\", \"Baseline\"])\n",
    "df[condition][\"COHORT\"].value_counts()"
   ]
  },
  {
   "cell_type": "code",
   "execution_count": null,
   "metadata": {},
   "outputs": [],
   "source": [
    "img = np.asarray(Image.open('status.png'))\n",
    "plt.imshow(img)"
   ]
  },
  {
   "cell_type": "code",
   "execution_count": null,
   "metadata": {},
   "outputs": [],
   "source": [
    "df.columns"
   ]
  },
  {
   "cell_type": "code",
   "execution_count": null,
   "metadata": {},
   "outputs": [],
   "source": [
    "df[\"ENROLL_STATUS\"].value_counts()"
   ]
  },
  {
   "cell_type": "code",
   "execution_count": null,
   "metadata": {},
   "outputs": [],
   "source": [
    "condition = df[\"ENROLL_STATUS\"].isin([\"Complete\", \"Withdrew\"])\n",
    "sample_1 = df[(df[\"COHORT\"] == 1) & condition]\n",
    "sample_2 = df[(df[\"COHORT\"] == 2) & condition]\n",
    "sample_3 = df[(df[\"COHORT\"] == 3) & condition]\n",
    "sample_4 = df[(df[\"COHORT\"] == 4) & condition]\n",
    "\n",
    "df2 = pd.concat([sample_1, sample_2, sample_3, sample_4])\n",
    "df2[\"COHORT\"].value_counts()"
   ]
  },
  {
   "cell_type": "code",
   "execution_count": null,
   "metadata": {},
   "outputs": [],
   "source": [
    "img = np.asarray(Image.open('cohort.png'))\n",
    "plt.imshow(img)"
   ]
  },
  {
   "cell_type": "code",
   "execution_count": null,
   "metadata": {},
   "outputs": [],
   "source": [
    "#89 at least 2 visits\n",
    "#204 any date\n",
    "import os\n",
    "import shutil\n",
    "\n",
    "coherts = {}\n",
    "df4 = df[df[\"ENROLL_STATUS\"].isin([\"Complete\", \"Withdrew\"])]\n",
    "total = 0\n",
    "total_to_remove = 0\n",
    "for p in os.listdir('PPMI'):\n",
    "    try:\n",
    "        patno = int(p)\n",
    "    except ValueError:\n",
    "        print(\"error\", p) \n",
    "        continue\n",
    "\n",
    "    matching_rows = df4[df4[\"PATNO\"] == patno]\n",
    "    if not matching_rows.empty:\n",
    "        total += 1\n",
    "        coherts[patno] = matching_rows[\"COHORT\"].values[0]\n",
    "    else:\n",
    "        path_to_remove = os.path.join(\"PPMI\", str(patno))\n",
    "        shutil.rmtree(path_to_remove)\n",
    "        # print(\"removed\", patno)\n",
    "        total_to_remove +=1\n",
    "\n",
    "# for c in range(1, 5):\n",
    "#     print(f\"COHORT {c}: {len([k for k, v in coherts.items() if v == c])}\")\n",
    "\n",
    "total"
   ]
  },
  {
   "cell_type": "code",
   "execution_count": null,
   "metadata": {},
   "outputs": [],
   "source": [
    "total_to_remove"
   ]
  },
  {
   "cell_type": "code",
   "execution_count": null,
   "metadata": {},
   "outputs": [],
   "source": [
    "# export TEMPLATEFLOW_HOME=\"C:/Users/andre/parkinson/templates\""
   ]
  },
  {
   "cell_type": "code",
   "execution_count": null,
   "metadata": {},
   "outputs": [],
   "source": [
    "import os\n",
    "import SimpleITK as sitk\n",
    "from antspynet.utilities import brain_extraction\n",
    "from templateflow import api as tflow\n",
    "import ants\n",
    "\n",
    "template = tflow.get('MNI152Lin', desc=None, resolution=1, suffix='T2w', extension='nii.gz')\n",
    "mni_template_path = str(template)\n",
    "mni_nifti = ants.image_read(mni_template_path)\n",
    "\n",
    "template_brain = brain_extraction(mni_nifti, modality=\"t2\", verbose=False)\n",
    "\n",
    "template_brain_mask = ants.get_mask(template_brain, low_thresh=0.5)\n",
    "template_extracted_brain = ants.mask_image(mni_nifti, template_brain_mask)\n",
    "\n",
    "\n",
    "def convert_dicom_to_nifti_and_extract_brain(dicom_directory, output_directory):\n",
    "    os.makedirs(output_directory, exist_ok=True)\n",
    "    \n",
    "    # Read DICOM files\n",
    "    reader = sitk.ImageSeriesReader()\n",
    "    dicom_names = reader.GetGDCMSeriesFileNames(dicom_directory)\n",
    "    reader.SetFileNames(dicom_names)\n",
    "    image = reader.Execute()\n",
    "    \n",
    "    # Save DICOM as NIfTI\n",
    "    subject_path = os.path.join(output_directory, 'subject.nii.gz')\n",
    "    sitk.WriteImage(image, subject_path, True)\n",
    "    subject_nifti = ants.image_read(subject_path)\n",
    "    \n",
    "\n",
    "\n",
    "    prob_brain_mask = brain_extraction(subject_nifti, modality=\"t2\")\n",
    "    brain_mask = ants.get_mask(prob_brain_mask, low_thresh=0.5)\n",
    "    extracted_brain = ants.mask_image(subject_nifti, brain_mask)\n",
    "    output_path = os.path.join(output_directory, \"extracted_brain.nii.gz\")\n",
    "    ants.image_write(extracted_brain, output_path)\n",
    "\n",
    "    mytx = ants.registration(fixed=template_extracted_brain, \n",
    "                         moving=extracted_brain, \n",
    "                         type_of_transform = 'SyN' )\n",
    "    \n",
    "    warped_image = ants.apply_transforms(fixed=template_extracted_brain,\n",
    "                                            moving=extracted_brain,\n",
    "                                            transformlist=mytx['fwdtransforms'])\n",
    "    ants.image_write(warped_image, os.path.join(output_directory, \"warped_brain.nii.gz\"))\n"
   ]
  },
  {
   "cell_type": "code",
   "execution_count": 5,
   "metadata": {},
   "outputs": [
    {
     "name": "stdout",
     "output_type": "stream",
     "text": [
      "WARNING:tensorflow:5 out of the last 5 calls to <function TensorFlowTrainer.make_predict_function.<locals>.one_step_on_data_distributed at 0x000001E0340060D0> triggered tf.function retracing. Tracing is expensive and the excessive number of tracings could be due to (1) creating @tf.function repeatedly in a loop, (2) passing tensors with different shapes, (3) passing Python objects instead of tensors. For (1), please define your @tf.function outside of the loop. For (2), @tf.function has reduce_retracing=True option that can avoid unnecessary retracing. For (3), please refer to https://www.tensorflow.org/guide/function#controlling_retracing and https://www.tensorflow.org/api_docs/python/tf/function for  more details.\n",
      "WARNING:tensorflow:6 out of the last 6 calls to <function TensorFlowTrainer.make_predict_function.<locals>.one_step_on_data_distributed at 0x000001E034B83280> triggered tf.function retracing. Tracing is expensive and the excessive number of tracings could be due to (1) creating @tf.function repeatedly in a loop, (2) passing tensors with different shapes, (3) passing Python objects instead of tensors. For (1), please define your @tf.function outside of the loop. For (2), @tf.function has reduce_retracing=True option that can avoid unnecessary retracing. For (3), please refer to https://www.tensorflow.org/guide/function#controlling_retracing and https://www.tensorflow.org/api_docs/python/tf/function for  more details.\n"
     ]
    }
   ],
   "source": [
    "dicom_root = 'PPMI'\n",
    "nifti_root = 'NIfTI'\n",
    "\n",
    "for patno in os.listdir(dicom_root):\n",
    "    try:\n",
    "        patno_int = int(patno)\n",
    "        matching_rows = df[df[\"PATNO\"] == patno_int]\n",
    "        if not matching_rows.empty:\n",
    "            patno_path = os.path.join(dicom_root, patno)\n",
    "            if os.path.isdir(patno_path):\n",
    "                for dtype in os.listdir(patno_path):\n",
    "                    type_path = os.path.join(patno_path, dtype)\n",
    "                    if os.path.isdir(type_path):\n",
    "                        for date in os.listdir(type_path):\n",
    "                            date_path = os.path.join(type_path, date)\n",
    "                            if os.path.isdir(date_path):\n",
    "                                for ids in os.listdir(date_path):\n",
    "                                    ids_path = os.path.join(date_path, ids)\n",
    "                                    if os.path.isdir(ids_path):\n",
    "                                        output_path = os.path.join(nifti_root, patno, dtype, date, ids)\n",
    "                                        convert_dicom_to_nifti_and_extract_brain(ids_path, output_path)\n",
    "    except ValueError:\n",
    "        print(f\"PATNO directory: {patno}\")"
   ]
  },
  {
   "cell_type": "code",
   "execution_count": 15,
   "metadata": {},
   "outputs": [],
   "source": [
    "import os\n",
    "import shutil\n",
    "import uuid  # Import UUID to generate random strings\n",
    "\n",
    "nifti_root = 'NIfTI'\n",
    "data_root = 'DATA'\n",
    "\n",
    "for patno in os.listdir(nifti_root):\n",
    "    try:\n",
    "        patno_int = int(patno)\n",
    "        matching_rows = df[df[\"PATNO\"] == patno_int]\n",
    "        if not matching_rows.empty:\n",
    "            cohort_value = str(matching_rows[\"COHORT\"].values[0])\n",
    "            cohort_path = os.path.join(data_root, cohort_value)\n",
    "            os.makedirs(cohort_path, exist_ok=True)\n",
    "            patno_path = os.path.join(nifti_root, patno)\n",
    "            if os.path.isdir(patno_path):\n",
    "                dtypes = os.listdir(patno_path)\n",
    "                for dtype in dtypes:\n",
    "                    type_path = os.path.join(patno_path, dtype)\n",
    "                    if os.path.isdir(type_path):\n",
    "                        for date in os.listdir(type_path):\n",
    "                            date_path = os.path.join(type_path, date)\n",
    "                            if os.path.isdir(date_path):\n",
    "                                for ids in os.listdir(date_path):\n",
    "                                    ids_path = os.path.join(date_path, ids)\n",
    "                                    if os.path.isdir(ids_path):\n",
    "                                        file_path = os.path.join(ids_path, 'warped_brain.nii.gz')\n",
    "                                        if os.path.isfile(file_path):\n",
    "                                            # Generate a unique identifier\n",
    "                                            unique_id = uuid.uuid4().hex\n",
    "                                            new_filename = f\"{unique_id}.nii.gz\"\n",
    "                                            file_target_path = os.path.join(cohort_path, new_filename)\n",
    "                                            shutil.copy(file_path, file_target_path)\n",
    "        else:\n",
    "            print(\"No matching record for PATNO:\", patno_int)\n",
    "    except ValueError:\n",
    "        print(f\"PATNO directory: {patno}\")\n"
   ]
  },
  {
   "cell_type": "code",
   "execution_count": 16,
   "metadata": {},
   "outputs": [
    {
     "name": "stdout",
     "output_type": "stream",
     "text": [
      "Folder: 1, Number of files: 425\n",
      "Folder: 2, Number of files: 144\n",
      "Folder: 3, Number of files: 111\n",
      "Folder: 4, Number of files: 95\n"
     ]
    }
   ],
   "source": [
    "import os\n",
    "\n",
    "data_root = 'DATA'\n",
    "\n",
    "if os.path.exists(data_root):\n",
    "    for folder in os.listdir(data_root):\n",
    "        folder_path = os.path.join(data_root, folder)\n",
    "        if os.path.isdir(folder_path):\n",
    "            files = [file for file in os.listdir(folder_path) if os.path.isfile(os.path.join(folder_path, file))]\n",
    "            file_count = len(files)\n",
    "            print(f\"Folder: {folder}, Number of files: {file_count}\")\n",
    "else:\n",
    "    print(\"The directory DATA does not exist.\")\n"
   ]
  },
  {
   "cell_type": "code",
   "execution_count": 17,
   "metadata": {},
   "outputs": [],
   "source": [
    "import os\n",
    "import shutil\n",
    "\n",
    "source_root = 'DATA'\n",
    "target_root_1 = 'DATA_ORD_1'\n",
    "target_root_2 = 'DATA_ORD_2'\n",
    "\n",
    "\n",
    "os.makedirs(target_root_1, exist_ok=True)\n",
    "os.makedirs(target_root_2, exist_ok=True)\n",
    "\n",
    "if os.path.exists(source_root):\n",
    "    for folder in os.listdir(source_root):\n",
    "        folder_path = os.path.join(source_root, folder)\n",
    "        if os.path.isdir(folder_path):\n",
    "            files = [file for file in os.listdir(folder_path) if os.path.isfile(os.path.join(folder_path, file))]\n",
    "            files.sort()\n",
    "            first_90_files = files[:90]\n",
    "            remaining_files = files[90:]\n",
    "            def copy_files(file_list, target_root):\n",
    "                target_folder_path = os.path.join(target_root, folder)\n",
    "                os.makedirs(target_folder_path, exist_ok=True)\n",
    "                for file in file_list:\n",
    "                    source_file_path = os.path.join(folder_path, file)\n",
    "                    target_file_path = os.path.join(target_folder_path, file)\n",
    "                    shutil.copy(source_file_path, target_file_path)\n",
    "\n",
    "            copy_files(first_90_files, target_root_1)\n",
    "            copy_files(remaining_files, target_root_2)\n",
    "\n",
    "else:\n",
    "    print(\"does not exist\")\n"
   ]
  },
  {
   "cell_type": "code",
   "execution_count": 18,
   "metadata": {},
   "outputs": [
    {
     "name": "stdout",
     "output_type": "stream",
     "text": [
      "Folder: 1, Number of files: 90\n",
      "Folder: 2, Number of files: 90\n",
      "Folder: 3, Number of files: 90\n",
      "Folder: 4, Number of files: 90\n"
     ]
    }
   ],
   "source": [
    "import os\n",
    "\n",
    "data_root = 'DATA_ORD_1'\n",
    "\n",
    "if os.path.exists(data_root):\n",
    "    for folder in os.listdir(data_root):\n",
    "        folder_path = os.path.join(data_root, folder)\n",
    "        if os.path.isdir(folder_path):\n",
    "            files = [file for file in os.listdir(folder_path) if os.path.isfile(os.path.join(folder_path, file))]\n",
    "            file_count = len(files)\n",
    "            print(f\"Folder: {folder}, Number of files: {file_count}\")\n",
    "else:\n",
    "    print(\"Does not exist.\")"
   ]
  },
  {
   "cell_type": "code",
   "execution_count": 19,
   "metadata": {},
   "outputs": [
    {
     "name": "stdout",
     "output_type": "stream",
     "text": [
      "Folder: 1, Number of files: 335\n",
      "Folder: 2, Number of files: 54\n",
      "Folder: 3, Number of files: 21\n",
      "Folder: 4, Number of files: 5\n"
     ]
    }
   ],
   "source": [
    "import os\n",
    "\n",
    "data_root = 'DATA_ORD_2'\n",
    "\n",
    "if os.path.exists(data_root):\n",
    "    for folder in os.listdir(data_root):\n",
    "        folder_path = os.path.join(data_root, folder)\n",
    "        if os.path.isdir(folder_path):\n",
    "            files = [file for file in os.listdir(folder_path) if os.path.isfile(os.path.join(folder_path, file))]\n",
    "            file_count = len(files)\n",
    "            print(f\"Folder: {folder}, Number of files: {file_count}\")\n",
    "else:\n",
    "    print(\"Does not exist\")"
   ]
  },
  {
   "cell_type": "code",
   "execution_count": null,
   "metadata": {},
   "outputs": [],
   "source": [
    "# %pip install -r requirements.txt\n",
    "# %pip install -U \"jax[cuda12_pip]\" -f https://storage.googleapis.com/jax-releases/jax_cuda_releases.html\n",
    "# %pip install --upgrade keras-cv\n",
    "# %pip install --upgrade keras\n",
    "# %pip install pydot\n",
    "# % pip install nybabel"
   ]
  },
  {
   "cell_type": "code",
   "execution_count": 1,
   "metadata": {},
   "outputs": [
    {
     "name": "stdout",
     "output_type": "stream",
     "text": [
      "3.3.2\n"
     ]
    }
   ],
   "source": [
    "import keras\n",
    "print(keras.__version__)"
   ]
  },
  {
   "cell_type": "code",
   "execution_count": 42,
   "metadata": {},
   "outputs": [
    {
     "data": {
      "text/html": [
       "<pre style=\"white-space:pre;overflow-x:auto;line-height:normal;font-family:Menlo,'DejaVu Sans Mono',consolas,'Courier New',monospace\"><span style=\"font-weight: bold\">Model: \"functional_23\"</span>\n",
       "</pre>\n"
      ],
      "text/plain": [
       "\u001b[1mModel: \"functional_23\"\u001b[0m\n"
      ]
     },
     "metadata": {},
     "output_type": "display_data"
    },
    {
     "data": {
      "text/html": [
       "<pre style=\"white-space:pre;overflow-x:auto;line-height:normal;font-family:Menlo,'DejaVu Sans Mono',consolas,'Courier New',monospace\">┏━━━━━━━━━━━━━━━━━━━━━━━━━━━━━━━━━┳━━━━━━━━━━━━━━━━━━━━━━━━┳━━━━━━━━━━━━━━━┓\n",
       "┃<span style=\"font-weight: bold\"> Layer (type)                    </span>┃<span style=\"font-weight: bold\"> Output Shape           </span>┃<span style=\"font-weight: bold\">       Param # </span>┃\n",
       "┡━━━━━━━━━━━━━━━━━━━━━━━━━━━━━━━━━╇━━━━━━━━━━━━━━━━━━━━━━━━╇━━━━━━━━━━━━━━━┩\n",
       "│ input_layer_11 (<span style=\"color: #0087ff; text-decoration-color: #0087ff\">InputLayer</span>)     │ (<span style=\"color: #00d7ff; text-decoration-color: #00d7ff\">None</span>, <span style=\"color: #00af00; text-decoration-color: #00af00\">128</span>, <span style=\"color: #00af00; text-decoration-color: #00af00\">128</span>, <span style=\"color: #00af00; text-decoration-color: #00af00\">64</span>,   │             <span style=\"color: #00af00; text-decoration-color: #00af00\">0</span> │\n",
       "│                                 │ <span style=\"color: #00af00; text-decoration-color: #00af00\">1</span>)                     │               │\n",
       "├─────────────────────────────────┼────────────────────────┼───────────────┤\n",
       "│ conv3d_44 (<span style=\"color: #0087ff; text-decoration-color: #0087ff\">Conv3D</span>)              │ (<span style=\"color: #00d7ff; text-decoration-color: #00d7ff\">None</span>, <span style=\"color: #00af00; text-decoration-color: #00af00\">126</span>, <span style=\"color: #00af00; text-decoration-color: #00af00\">126</span>, <span style=\"color: #00af00; text-decoration-color: #00af00\">62</span>,   │         <span style=\"color: #00af00; text-decoration-color: #00af00\">1,792</span> │\n",
       "│                                 │ <span style=\"color: #00af00; text-decoration-color: #00af00\">64</span>)                    │               │\n",
       "├─────────────────────────────────┼────────────────────────┼───────────────┤\n",
       "│ max_pooling3d_44 (<span style=\"color: #0087ff; text-decoration-color: #0087ff\">MaxPooling3D</span>) │ (<span style=\"color: #00d7ff; text-decoration-color: #00d7ff\">None</span>, <span style=\"color: #00af00; text-decoration-color: #00af00\">63</span>, <span style=\"color: #00af00; text-decoration-color: #00af00\">63</span>, <span style=\"color: #00af00; text-decoration-color: #00af00\">31</span>, <span style=\"color: #00af00; text-decoration-color: #00af00\">64</span>) │             <span style=\"color: #00af00; text-decoration-color: #00af00\">0</span> │\n",
       "├─────────────────────────────────┼────────────────────────┼───────────────┤\n",
       "│ batch_normalization_44          │ (<span style=\"color: #00d7ff; text-decoration-color: #00d7ff\">None</span>, <span style=\"color: #00af00; text-decoration-color: #00af00\">63</span>, <span style=\"color: #00af00; text-decoration-color: #00af00\">63</span>, <span style=\"color: #00af00; text-decoration-color: #00af00\">31</span>, <span style=\"color: #00af00; text-decoration-color: #00af00\">64</span>) │           <span style=\"color: #00af00; text-decoration-color: #00af00\">256</span> │\n",
       "│ (<span style=\"color: #0087ff; text-decoration-color: #0087ff\">BatchNormalization</span>)            │                        │               │\n",
       "├─────────────────────────────────┼────────────────────────┼───────────────┤\n",
       "│ conv3d_45 (<span style=\"color: #0087ff; text-decoration-color: #0087ff\">Conv3D</span>)              │ (<span style=\"color: #00d7ff; text-decoration-color: #00d7ff\">None</span>, <span style=\"color: #00af00; text-decoration-color: #00af00\">61</span>, <span style=\"color: #00af00; text-decoration-color: #00af00\">61</span>, <span style=\"color: #00af00; text-decoration-color: #00af00\">29</span>, <span style=\"color: #00af00; text-decoration-color: #00af00\">64</span>) │       <span style=\"color: #00af00; text-decoration-color: #00af00\">110,656</span> │\n",
       "├─────────────────────────────────┼────────────────────────┼───────────────┤\n",
       "│ max_pooling3d_45 (<span style=\"color: #0087ff; text-decoration-color: #0087ff\">MaxPooling3D</span>) │ (<span style=\"color: #00d7ff; text-decoration-color: #00d7ff\">None</span>, <span style=\"color: #00af00; text-decoration-color: #00af00\">30</span>, <span style=\"color: #00af00; text-decoration-color: #00af00\">30</span>, <span style=\"color: #00af00; text-decoration-color: #00af00\">14</span>, <span style=\"color: #00af00; text-decoration-color: #00af00\">64</span>) │             <span style=\"color: #00af00; text-decoration-color: #00af00\">0</span> │\n",
       "├─────────────────────────────────┼────────────────────────┼───────────────┤\n",
       "│ batch_normalization_45          │ (<span style=\"color: #00d7ff; text-decoration-color: #00d7ff\">None</span>, <span style=\"color: #00af00; text-decoration-color: #00af00\">30</span>, <span style=\"color: #00af00; text-decoration-color: #00af00\">30</span>, <span style=\"color: #00af00; text-decoration-color: #00af00\">14</span>, <span style=\"color: #00af00; text-decoration-color: #00af00\">64</span>) │           <span style=\"color: #00af00; text-decoration-color: #00af00\">256</span> │\n",
       "│ (<span style=\"color: #0087ff; text-decoration-color: #0087ff\">BatchNormalization</span>)            │                        │               │\n",
       "├─────────────────────────────────┼────────────────────────┼───────────────┤\n",
       "│ conv3d_46 (<span style=\"color: #0087ff; text-decoration-color: #0087ff\">Conv3D</span>)              │ (<span style=\"color: #00d7ff; text-decoration-color: #00d7ff\">None</span>, <span style=\"color: #00af00; text-decoration-color: #00af00\">28</span>, <span style=\"color: #00af00; text-decoration-color: #00af00\">28</span>, <span style=\"color: #00af00; text-decoration-color: #00af00\">12</span>,     │       <span style=\"color: #00af00; text-decoration-color: #00af00\">221,312</span> │\n",
       "│                                 │ <span style=\"color: #00af00; text-decoration-color: #00af00\">128</span>)                   │               │\n",
       "├─────────────────────────────────┼────────────────────────┼───────────────┤\n",
       "│ max_pooling3d_46 (<span style=\"color: #0087ff; text-decoration-color: #0087ff\">MaxPooling3D</span>) │ (<span style=\"color: #00d7ff; text-decoration-color: #00d7ff\">None</span>, <span style=\"color: #00af00; text-decoration-color: #00af00\">14</span>, <span style=\"color: #00af00; text-decoration-color: #00af00\">14</span>, <span style=\"color: #00af00; text-decoration-color: #00af00\">6</span>, <span style=\"color: #00af00; text-decoration-color: #00af00\">128</span>) │             <span style=\"color: #00af00; text-decoration-color: #00af00\">0</span> │\n",
       "├─────────────────────────────────┼────────────────────────┼───────────────┤\n",
       "│ batch_normalization_46          │ (<span style=\"color: #00d7ff; text-decoration-color: #00d7ff\">None</span>, <span style=\"color: #00af00; text-decoration-color: #00af00\">14</span>, <span style=\"color: #00af00; text-decoration-color: #00af00\">14</span>, <span style=\"color: #00af00; text-decoration-color: #00af00\">6</span>, <span style=\"color: #00af00; text-decoration-color: #00af00\">128</span>) │           <span style=\"color: #00af00; text-decoration-color: #00af00\">512</span> │\n",
       "│ (<span style=\"color: #0087ff; text-decoration-color: #0087ff\">BatchNormalization</span>)            │                        │               │\n",
       "├─────────────────────────────────┼────────────────────────┼───────────────┤\n",
       "│ conv3d_47 (<span style=\"color: #0087ff; text-decoration-color: #0087ff\">Conv3D</span>)              │ (<span style=\"color: #00d7ff; text-decoration-color: #00d7ff\">None</span>, <span style=\"color: #00af00; text-decoration-color: #00af00\">12</span>, <span style=\"color: #00af00; text-decoration-color: #00af00\">12</span>, <span style=\"color: #00af00; text-decoration-color: #00af00\">4</span>, <span style=\"color: #00af00; text-decoration-color: #00af00\">256</span>) │       <span style=\"color: #00af00; text-decoration-color: #00af00\">884,992</span> │\n",
       "├─────────────────────────────────┼────────────────────────┼───────────────┤\n",
       "│ max_pooling3d_47 (<span style=\"color: #0087ff; text-decoration-color: #0087ff\">MaxPooling3D</span>) │ (<span style=\"color: #00d7ff; text-decoration-color: #00d7ff\">None</span>, <span style=\"color: #00af00; text-decoration-color: #00af00\">6</span>, <span style=\"color: #00af00; text-decoration-color: #00af00\">6</span>, <span style=\"color: #00af00; text-decoration-color: #00af00\">2</span>, <span style=\"color: #00af00; text-decoration-color: #00af00\">256</span>)   │             <span style=\"color: #00af00; text-decoration-color: #00af00\">0</span> │\n",
       "├─────────────────────────────────┼────────────────────────┼───────────────┤\n",
       "│ batch_normalization_47          │ (<span style=\"color: #00d7ff; text-decoration-color: #00d7ff\">None</span>, <span style=\"color: #00af00; text-decoration-color: #00af00\">6</span>, <span style=\"color: #00af00; text-decoration-color: #00af00\">6</span>, <span style=\"color: #00af00; text-decoration-color: #00af00\">2</span>, <span style=\"color: #00af00; text-decoration-color: #00af00\">256</span>)   │         <span style=\"color: #00af00; text-decoration-color: #00af00\">1,024</span> │\n",
       "│ (<span style=\"color: #0087ff; text-decoration-color: #0087ff\">BatchNormalization</span>)            │                        │               │\n",
       "├─────────────────────────────────┼────────────────────────┼───────────────┤\n",
       "│ global_max_pooling3d_11         │ (<span style=\"color: #00d7ff; text-decoration-color: #00d7ff\">None</span>, <span style=\"color: #00af00; text-decoration-color: #00af00\">256</span>)            │             <span style=\"color: #00af00; text-decoration-color: #00af00\">0</span> │\n",
       "│ (<span style=\"color: #0087ff; text-decoration-color: #0087ff\">GlobalMaxPooling3D</span>)            │                        │               │\n",
       "├─────────────────────────────────┼────────────────────────┼───────────────┤\n",
       "│ reshape_11 (<span style=\"color: #0087ff; text-decoration-color: #0087ff\">Reshape</span>)            │ (<span style=\"color: #00d7ff; text-decoration-color: #00d7ff\">None</span>, <span style=\"color: #00af00; text-decoration-color: #00af00\">1</span>, <span style=\"color: #00af00; text-decoration-color: #00af00\">256</span>)         │             <span style=\"color: #00af00; text-decoration-color: #00af00\">0</span> │\n",
       "├─────────────────────────────────┼────────────────────────┼───────────────┤\n",
       "│ lstm_11 (<span style=\"color: #0087ff; text-decoration-color: #0087ff\">LSTM</span>)                  │ (<span style=\"color: #00d7ff; text-decoration-color: #00d7ff\">None</span>, <span style=\"color: #00af00; text-decoration-color: #00af00\">128</span>)            │       <span style=\"color: #00af00; text-decoration-color: #00af00\">197,120</span> │\n",
       "├─────────────────────────────────┼────────────────────────┼───────────────┤\n",
       "│ dense_55 (<span style=\"color: #0087ff; text-decoration-color: #0087ff\">Dense</span>)                │ (<span style=\"color: #00d7ff; text-decoration-color: #00d7ff\">None</span>, <span style=\"color: #00af00; text-decoration-color: #00af00\">1024</span>)           │       <span style=\"color: #00af00; text-decoration-color: #00af00\">132,096</span> │\n",
       "├─────────────────────────────────┼────────────────────────┼───────────────┤\n",
       "│ dropout_33 (<span style=\"color: #0087ff; text-decoration-color: #0087ff\">Dropout</span>)            │ (<span style=\"color: #00d7ff; text-decoration-color: #00d7ff\">None</span>, <span style=\"color: #00af00; text-decoration-color: #00af00\">1024</span>)           │             <span style=\"color: #00af00; text-decoration-color: #00af00\">0</span> │\n",
       "├─────────────────────────────────┼────────────────────────┼───────────────┤\n",
       "│ dense_56 (<span style=\"color: #0087ff; text-decoration-color: #0087ff\">Dense</span>)                │ (<span style=\"color: #00d7ff; text-decoration-color: #00d7ff\">None</span>, <span style=\"color: #00af00; text-decoration-color: #00af00\">512</span>)            │       <span style=\"color: #00af00; text-decoration-color: #00af00\">524,800</span> │\n",
       "├─────────────────────────────────┼────────────────────────┼───────────────┤\n",
       "│ dropout_34 (<span style=\"color: #0087ff; text-decoration-color: #0087ff\">Dropout</span>)            │ (<span style=\"color: #00d7ff; text-decoration-color: #00d7ff\">None</span>, <span style=\"color: #00af00; text-decoration-color: #00af00\">512</span>)            │             <span style=\"color: #00af00; text-decoration-color: #00af00\">0</span> │\n",
       "├─────────────────────────────────┼────────────────────────┼───────────────┤\n",
       "│ dense_57 (<span style=\"color: #0087ff; text-decoration-color: #0087ff\">Dense</span>)                │ (<span style=\"color: #00d7ff; text-decoration-color: #00d7ff\">None</span>, <span style=\"color: #00af00; text-decoration-color: #00af00\">128</span>)            │        <span style=\"color: #00af00; text-decoration-color: #00af00\">65,664</span> │\n",
       "├─────────────────────────────────┼────────────────────────┼───────────────┤\n",
       "│ dropout_35 (<span style=\"color: #0087ff; text-decoration-color: #0087ff\">Dropout</span>)            │ (<span style=\"color: #00d7ff; text-decoration-color: #00d7ff\">None</span>, <span style=\"color: #00af00; text-decoration-color: #00af00\">128</span>)            │             <span style=\"color: #00af00; text-decoration-color: #00af00\">0</span> │\n",
       "├─────────────────────────────────┼────────────────────────┼───────────────┤\n",
       "│ dense_58 (<span style=\"color: #0087ff; text-decoration-color: #0087ff\">Dense</span>)                │ (<span style=\"color: #00d7ff; text-decoration-color: #00d7ff\">None</span>, <span style=\"color: #00af00; text-decoration-color: #00af00\">64</span>)             │         <span style=\"color: #00af00; text-decoration-color: #00af00\">8,256</span> │\n",
       "├─────────────────────────────────┼────────────────────────┼───────────────┤\n",
       "│ dense_59 (<span style=\"color: #0087ff; text-decoration-color: #0087ff\">Dense</span>)                │ (<span style=\"color: #00d7ff; text-decoration-color: #00d7ff\">None</span>, <span style=\"color: #00af00; text-decoration-color: #00af00\">4</span>)              │           <span style=\"color: #00af00; text-decoration-color: #00af00\">260</span> │\n",
       "└─────────────────────────────────┴────────────────────────┴───────────────┘\n",
       "</pre>\n"
      ],
      "text/plain": [
       "┏━━━━━━━━━━━━━━━━━━━━━━━━━━━━━━━━━┳━━━━━━━━━━━━━━━━━━━━━━━━┳━━━━━━━━━━━━━━━┓\n",
       "┃\u001b[1m \u001b[0m\u001b[1mLayer (type)                   \u001b[0m\u001b[1m \u001b[0m┃\u001b[1m \u001b[0m\u001b[1mOutput Shape          \u001b[0m\u001b[1m \u001b[0m┃\u001b[1m \u001b[0m\u001b[1m      Param #\u001b[0m\u001b[1m \u001b[0m┃\n",
       "┡━━━━━━━━━━━━━━━━━━━━━━━━━━━━━━━━━╇━━━━━━━━━━━━━━━━━━━━━━━━╇━━━━━━━━━━━━━━━┩\n",
       "│ input_layer_11 (\u001b[38;5;33mInputLayer\u001b[0m)     │ (\u001b[38;5;45mNone\u001b[0m, \u001b[38;5;34m128\u001b[0m, \u001b[38;5;34m128\u001b[0m, \u001b[38;5;34m64\u001b[0m,   │             \u001b[38;5;34m0\u001b[0m │\n",
       "│                                 │ \u001b[38;5;34m1\u001b[0m)                     │               │\n",
       "├─────────────────────────────────┼────────────────────────┼───────────────┤\n",
       "│ conv3d_44 (\u001b[38;5;33mConv3D\u001b[0m)              │ (\u001b[38;5;45mNone\u001b[0m, \u001b[38;5;34m126\u001b[0m, \u001b[38;5;34m126\u001b[0m, \u001b[38;5;34m62\u001b[0m,   │         \u001b[38;5;34m1,792\u001b[0m │\n",
       "│                                 │ \u001b[38;5;34m64\u001b[0m)                    │               │\n",
       "├─────────────────────────────────┼────────────────────────┼───────────────┤\n",
       "│ max_pooling3d_44 (\u001b[38;5;33mMaxPooling3D\u001b[0m) │ (\u001b[38;5;45mNone\u001b[0m, \u001b[38;5;34m63\u001b[0m, \u001b[38;5;34m63\u001b[0m, \u001b[38;5;34m31\u001b[0m, \u001b[38;5;34m64\u001b[0m) │             \u001b[38;5;34m0\u001b[0m │\n",
       "├─────────────────────────────────┼────────────────────────┼───────────────┤\n",
       "│ batch_normalization_44          │ (\u001b[38;5;45mNone\u001b[0m, \u001b[38;5;34m63\u001b[0m, \u001b[38;5;34m63\u001b[0m, \u001b[38;5;34m31\u001b[0m, \u001b[38;5;34m64\u001b[0m) │           \u001b[38;5;34m256\u001b[0m │\n",
       "│ (\u001b[38;5;33mBatchNormalization\u001b[0m)            │                        │               │\n",
       "├─────────────────────────────────┼────────────────────────┼───────────────┤\n",
       "│ conv3d_45 (\u001b[38;5;33mConv3D\u001b[0m)              │ (\u001b[38;5;45mNone\u001b[0m, \u001b[38;5;34m61\u001b[0m, \u001b[38;5;34m61\u001b[0m, \u001b[38;5;34m29\u001b[0m, \u001b[38;5;34m64\u001b[0m) │       \u001b[38;5;34m110,656\u001b[0m │\n",
       "├─────────────────────────────────┼────────────────────────┼───────────────┤\n",
       "│ max_pooling3d_45 (\u001b[38;5;33mMaxPooling3D\u001b[0m) │ (\u001b[38;5;45mNone\u001b[0m, \u001b[38;5;34m30\u001b[0m, \u001b[38;5;34m30\u001b[0m, \u001b[38;5;34m14\u001b[0m, \u001b[38;5;34m64\u001b[0m) │             \u001b[38;5;34m0\u001b[0m │\n",
       "├─────────────────────────────────┼────────────────────────┼───────────────┤\n",
       "│ batch_normalization_45          │ (\u001b[38;5;45mNone\u001b[0m, \u001b[38;5;34m30\u001b[0m, \u001b[38;5;34m30\u001b[0m, \u001b[38;5;34m14\u001b[0m, \u001b[38;5;34m64\u001b[0m) │           \u001b[38;5;34m256\u001b[0m │\n",
       "│ (\u001b[38;5;33mBatchNormalization\u001b[0m)            │                        │               │\n",
       "├─────────────────────────────────┼────────────────────────┼───────────────┤\n",
       "│ conv3d_46 (\u001b[38;5;33mConv3D\u001b[0m)              │ (\u001b[38;5;45mNone\u001b[0m, \u001b[38;5;34m28\u001b[0m, \u001b[38;5;34m28\u001b[0m, \u001b[38;5;34m12\u001b[0m,     │       \u001b[38;5;34m221,312\u001b[0m │\n",
       "│                                 │ \u001b[38;5;34m128\u001b[0m)                   │               │\n",
       "├─────────────────────────────────┼────────────────────────┼───────────────┤\n",
       "│ max_pooling3d_46 (\u001b[38;5;33mMaxPooling3D\u001b[0m) │ (\u001b[38;5;45mNone\u001b[0m, \u001b[38;5;34m14\u001b[0m, \u001b[38;5;34m14\u001b[0m, \u001b[38;5;34m6\u001b[0m, \u001b[38;5;34m128\u001b[0m) │             \u001b[38;5;34m0\u001b[0m │\n",
       "├─────────────────────────────────┼────────────────────────┼───────────────┤\n",
       "│ batch_normalization_46          │ (\u001b[38;5;45mNone\u001b[0m, \u001b[38;5;34m14\u001b[0m, \u001b[38;5;34m14\u001b[0m, \u001b[38;5;34m6\u001b[0m, \u001b[38;5;34m128\u001b[0m) │           \u001b[38;5;34m512\u001b[0m │\n",
       "│ (\u001b[38;5;33mBatchNormalization\u001b[0m)            │                        │               │\n",
       "├─────────────────────────────────┼────────────────────────┼───────────────┤\n",
       "│ conv3d_47 (\u001b[38;5;33mConv3D\u001b[0m)              │ (\u001b[38;5;45mNone\u001b[0m, \u001b[38;5;34m12\u001b[0m, \u001b[38;5;34m12\u001b[0m, \u001b[38;5;34m4\u001b[0m, \u001b[38;5;34m256\u001b[0m) │       \u001b[38;5;34m884,992\u001b[0m │\n",
       "├─────────────────────────────────┼────────────────────────┼───────────────┤\n",
       "│ max_pooling3d_47 (\u001b[38;5;33mMaxPooling3D\u001b[0m) │ (\u001b[38;5;45mNone\u001b[0m, \u001b[38;5;34m6\u001b[0m, \u001b[38;5;34m6\u001b[0m, \u001b[38;5;34m2\u001b[0m, \u001b[38;5;34m256\u001b[0m)   │             \u001b[38;5;34m0\u001b[0m │\n",
       "├─────────────────────────────────┼────────────────────────┼───────────────┤\n",
       "│ batch_normalization_47          │ (\u001b[38;5;45mNone\u001b[0m, \u001b[38;5;34m6\u001b[0m, \u001b[38;5;34m6\u001b[0m, \u001b[38;5;34m2\u001b[0m, \u001b[38;5;34m256\u001b[0m)   │         \u001b[38;5;34m1,024\u001b[0m │\n",
       "│ (\u001b[38;5;33mBatchNormalization\u001b[0m)            │                        │               │\n",
       "├─────────────────────────────────┼────────────────────────┼───────────────┤\n",
       "│ global_max_pooling3d_11         │ (\u001b[38;5;45mNone\u001b[0m, \u001b[38;5;34m256\u001b[0m)            │             \u001b[38;5;34m0\u001b[0m │\n",
       "│ (\u001b[38;5;33mGlobalMaxPooling3D\u001b[0m)            │                        │               │\n",
       "├─────────────────────────────────┼────────────────────────┼───────────────┤\n",
       "│ reshape_11 (\u001b[38;5;33mReshape\u001b[0m)            │ (\u001b[38;5;45mNone\u001b[0m, \u001b[38;5;34m1\u001b[0m, \u001b[38;5;34m256\u001b[0m)         │             \u001b[38;5;34m0\u001b[0m │\n",
       "├─────────────────────────────────┼────────────────────────┼───────────────┤\n",
       "│ lstm_11 (\u001b[38;5;33mLSTM\u001b[0m)                  │ (\u001b[38;5;45mNone\u001b[0m, \u001b[38;5;34m128\u001b[0m)            │       \u001b[38;5;34m197,120\u001b[0m │\n",
       "├─────────────────────────────────┼────────────────────────┼───────────────┤\n",
       "│ dense_55 (\u001b[38;5;33mDense\u001b[0m)                │ (\u001b[38;5;45mNone\u001b[0m, \u001b[38;5;34m1024\u001b[0m)           │       \u001b[38;5;34m132,096\u001b[0m │\n",
       "├─────────────────────────────────┼────────────────────────┼───────────────┤\n",
       "│ dropout_33 (\u001b[38;5;33mDropout\u001b[0m)            │ (\u001b[38;5;45mNone\u001b[0m, \u001b[38;5;34m1024\u001b[0m)           │             \u001b[38;5;34m0\u001b[0m │\n",
       "├─────────────────────────────────┼────────────────────────┼───────────────┤\n",
       "│ dense_56 (\u001b[38;5;33mDense\u001b[0m)                │ (\u001b[38;5;45mNone\u001b[0m, \u001b[38;5;34m512\u001b[0m)            │       \u001b[38;5;34m524,800\u001b[0m │\n",
       "├─────────────────────────────────┼────────────────────────┼───────────────┤\n",
       "│ dropout_34 (\u001b[38;5;33mDropout\u001b[0m)            │ (\u001b[38;5;45mNone\u001b[0m, \u001b[38;5;34m512\u001b[0m)            │             \u001b[38;5;34m0\u001b[0m │\n",
       "├─────────────────────────────────┼────────────────────────┼───────────────┤\n",
       "│ dense_57 (\u001b[38;5;33mDense\u001b[0m)                │ (\u001b[38;5;45mNone\u001b[0m, \u001b[38;5;34m128\u001b[0m)            │        \u001b[38;5;34m65,664\u001b[0m │\n",
       "├─────────────────────────────────┼────────────────────────┼───────────────┤\n",
       "│ dropout_35 (\u001b[38;5;33mDropout\u001b[0m)            │ (\u001b[38;5;45mNone\u001b[0m, \u001b[38;5;34m128\u001b[0m)            │             \u001b[38;5;34m0\u001b[0m │\n",
       "├─────────────────────────────────┼────────────────────────┼───────────────┤\n",
       "│ dense_58 (\u001b[38;5;33mDense\u001b[0m)                │ (\u001b[38;5;45mNone\u001b[0m, \u001b[38;5;34m64\u001b[0m)             │         \u001b[38;5;34m8,256\u001b[0m │\n",
       "├─────────────────────────────────┼────────────────────────┼───────────────┤\n",
       "│ dense_59 (\u001b[38;5;33mDense\u001b[0m)                │ (\u001b[38;5;45mNone\u001b[0m, \u001b[38;5;34m4\u001b[0m)              │           \u001b[38;5;34m260\u001b[0m │\n",
       "└─────────────────────────────────┴────────────────────────┴───────────────┘\n"
      ]
     },
     "metadata": {},
     "output_type": "display_data"
    },
    {
     "data": {
      "text/html": [
       "<pre style=\"white-space:pre;overflow-x:auto;line-height:normal;font-family:Menlo,'DejaVu Sans Mono',consolas,'Courier New',monospace\"><span style=\"font-weight: bold\"> Total params: </span><span style=\"color: #00af00; text-decoration-color: #00af00\">2,148,996</span> (8.20 MB)\n",
       "</pre>\n"
      ],
      "text/plain": [
       "\u001b[1m Total params: \u001b[0m\u001b[38;5;34m2,148,996\u001b[0m (8.20 MB)\n"
      ]
     },
     "metadata": {},
     "output_type": "display_data"
    },
    {
     "data": {
      "text/html": [
       "<pre style=\"white-space:pre;overflow-x:auto;line-height:normal;font-family:Menlo,'DejaVu Sans Mono',consolas,'Courier New',monospace\"><span style=\"font-weight: bold\"> Trainable params: </span><span style=\"color: #00af00; text-decoration-color: #00af00\">2,147,972</span> (8.19 MB)\n",
       "</pre>\n"
      ],
      "text/plain": [
       "\u001b[1m Trainable params: \u001b[0m\u001b[38;5;34m2,147,972\u001b[0m (8.19 MB)\n"
      ]
     },
     "metadata": {},
     "output_type": "display_data"
    },
    {
     "data": {
      "text/html": [
       "<pre style=\"white-space:pre;overflow-x:auto;line-height:normal;font-family:Menlo,'DejaVu Sans Mono',consolas,'Courier New',monospace\"><span style=\"font-weight: bold\"> Non-trainable params: </span><span style=\"color: #00af00; text-decoration-color: #00af00\">1,024</span> (4.00 KB)\n",
       "</pre>\n"
      ],
      "text/plain": [
       "\u001b[1m Non-trainable params: \u001b[0m\u001b[38;5;34m1,024\u001b[0m (4.00 KB)\n"
      ]
     },
     "metadata": {},
     "output_type": "display_data"
    }
   ],
   "source": [
    "import tensorflow as tf\n",
    "from keras.layers import Input, Conv3D, MaxPooling3D, BatchNormalization, GlobalMaxPooling3D, LSTM, Dense, Dropout, Reshape\n",
    "from keras.models import Model\n",
    "\n",
    "\n",
    "def hybrid():\n",
    "    inputs = Input(shape=(128, 128, 64, 1))\n",
    "\n",
    "    x = Conv3D(64, (3, 3, 3), activation='relu', padding='valid')(inputs)\n",
    "    x = MaxPooling3D((2, 2, 2))(x)\n",
    "    x = BatchNormalization()(x)\n",
    "\n",
    "    x = Conv3D(64, (3, 3, 3), activation='relu', padding='valid')(x)\n",
    "    x = MaxPooling3D((2, 2, 2))(x)\n",
    "    x = BatchNormalization()(x)\n",
    "\n",
    "    x = Conv3D(128, (3, 3, 3), activation='relu', padding='valid')(x)\n",
    "    x = MaxPooling3D((2, 2, 2))(x)\n",
    "    x = BatchNormalization()(x)\n",
    "\n",
    "\n",
    "    x = Conv3D(256, (3, 3, 3), activation='relu', padding='valid')(x)\n",
    "    x = MaxPooling3D((2, 2, 2))(x)\n",
    "    x = BatchNormalization()(x)\n",
    "    x = GlobalMaxPooling3D()(x)\n",
    "\n",
    "\n",
    "    x = Reshape((1, -1))(x)\n",
    "    x = LSTM(128)(x)\n",
    "\n",
    "\n",
    "    x = Dense(1024, activation='relu')(x)\n",
    "    x = Dropout(0.5)(x)\n",
    "    x = Dense(512, activation='relu')(x)\n",
    "    x = Dropout(0.5)(x)\n",
    "    x = Dense(128, activation='relu')(x)\n",
    "    x = Dropout(0.5)(x)\n",
    "    x = Dense(64, activation='relu')(x)\n",
    "\n",
    "\n",
    "    outputs = Dense(4, activation='softmax')(x)\n",
    "    model = Model(inputs=inputs, outputs=outputs)\n",
    "    return model\n",
    "\n",
    "model = hybrid()\n",
    "model.summary()"
   ]
  },
  {
   "cell_type": "code",
   "execution_count": 43,
   "metadata": {},
   "outputs": [],
   "source": [
    "import os\n",
    "import numpy as np\n",
    "import nibabel as nib\n",
    "import tensorflow as tf\n",
    "\n",
    "def load_nii_to_array(path, slice_range, output_shape=(128, 128, 64)):\n",
    "    # Load the NIfTI file\n",
    "    nii = nib.load(path)\n",
    "    data = nii.get_fdata()\n",
    "    \n",
    "    # Normalize data\n",
    "    data = (data - np.min(data)) / (np.max(data) - np.min(data))\n",
    "\n",
    "    # Select the slice range\n",
    "    actual_end_slice = min(slice_range[1], data.shape[2])\n",
    "    data = data[:, :, slice_range[0]:actual_end_slice]\n",
    "    num_slices = data.shape[2]\n",
    "\n",
    "    if num_slices < output_shape[2]:\n",
    "        raise ValueError(f\"Not enough slices available. Needed: {output_shape[2]}, available: {num_slices}.\")\n",
    "\n",
    "    # Correct linspace usage to avoid out-of-bound indices\n",
    "    indices = np.linspace(0, num_slices - 1, output_shape[2], dtype=int)\n",
    "    data = data[:, :, indices]\n",
    "\n",
    "    # Resize slices to 128x128, ensuring each slice has a channel dimension\n",
    "    resized_data = np.zeros((output_shape[0], output_shape[1], output_shape[2], 1))  # Notice the addition of the channel dimension here\n",
    "    for i in range(output_shape[2]):\n",
    "        # Add channel dimension before resizing\n",
    "        slice_with_channel = np.expand_dims(data[:, :, i], axis=-1)\n",
    "        resized_slice = tf.image.resize(slice_with_channel, output_shape[:2], method='bilinear')\n",
    "        resized_data[:, :, i, :] = resized_slice.numpy()  # Storing with channel dimension\n",
    "\n",
    "    return resized_data\n",
    "\n",
    "\n",
    "def process_directory(directory, slice_range):\n",
    "    X = []\n",
    "    y = []\n",
    "    # Iterate over class directories\n",
    "    for class_dir in os.listdir(directory):\n",
    "        class_path = os.path.join(directory, class_dir)\n",
    "        if os.path.isdir(class_path):\n",
    "            class_label = int(class_dir) - 1  # Assuming class directories are 1-indexed\n",
    "            # Iterate over all files in the class directory\n",
    "            for filename in os.listdir(class_path):\n",
    "                if filename.endswith(\".nii.gz\"):\n",
    "                    file_path = os.path.join(class_path, filename)\n",
    "                    slices = load_nii_to_array(file_path, slice_range)\n",
    "                    X.append(slices)\n",
    "                    y.append(class_label)\n",
    "    return np.array(X), np.array(y)\n",
    "\n",
    "# Load training and validation data\n",
    "data_dir = \"DATA_ORD_1\"\n",
    "slice_range = (58, 122)\n",
    "\n",
    "data, labels = process_directory(data_dir, slice_range)\n",
    "\n",
    "# Shuffle and split data\n",
    "indices = np.arange(data.shape[0])\n",
    "np.random.shuffle(indices)\n",
    "data = data[indices]\n",
    "labels = labels[indices]\n",
    "\n",
    "split = int(0.8 * len(data))  # 80% training, 20% validation\n",
    "train_data, train_labels = data[:split], labels[:split]\n",
    "val_data, val_labels = data[split:], labels[split:]\n",
    "\n",
    "batch_size = 2\n",
    "\n",
    "# Convert to TensorFlow datasets\n",
    "train_ds = tf.data.Dataset.from_tensor_slices((train_data, train_labels)).batch(batch_size)\n",
    "val_ds = tf.data.Dataset.from_tensor_slices((val_data, val_labels)).batch(batch_size)"
   ]
  },
  {
   "cell_type": "code",
   "execution_count": null,
   "metadata": {},
   "outputs": [],
   "source": [
    "data_augmentation_layers = [\n",
    "    tf.keras.layers.RandomRotation(0.1),\n",
    "]\n",
    "\n",
    "\n",
    "def data_augmentation(images):\n",
    "    for layer in data_augmentation_layers:\n",
    "        images = layer(images, training=True)\n",
    "    return images"
   ]
  },
  {
   "cell_type": "code",
   "execution_count": 44,
   "metadata": {},
   "outputs": [],
   "source": [
    "train_ds = train_ds.prefetch(tf.data.AUTOTUNE)\n",
    "val_ds = val_ds.prefetch(tf.data.AUTOTUNE)"
   ]
  },
  {
   "cell_type": "code",
   "execution_count": 45,
   "metadata": {},
   "outputs": [
    {
     "name": "stdout",
     "output_type": "stream",
     "text": [
      "Epoch 1/35\n"
     ]
    },
    {
     "name": "stdout",
     "output_type": "stream",
     "text": [
      "\u001b[1m144/144\u001b[0m \u001b[32m━━━━━━━━━━━━━━━━━━━━\u001b[0m\u001b[37m\u001b[0m \u001b[1m103s\u001b[0m 647ms/step - accuracy: 0.2364 - loss: 1.4208 - val_accuracy: 0.2639 - val_loss: 1.3880\n",
      "Epoch 2/35\n",
      "\u001b[1m144/144\u001b[0m \u001b[32m━━━━━━━━━━━━━━━━━━━━\u001b[0m\u001b[37m\u001b[0m \u001b[1m92s\u001b[0m 640ms/step - accuracy: 0.2106 - loss: 1.4204 - val_accuracy: 0.2361 - val_loss: 1.3907\n",
      "Epoch 3/35\n",
      "\u001b[1m144/144\u001b[0m \u001b[32m━━━━━━━━━━━━━━━━━━━━\u001b[0m\u001b[37m\u001b[0m \u001b[1m92s\u001b[0m 640ms/step - accuracy: 0.2877 - loss: 1.4012 - val_accuracy: 0.2222 - val_loss: 1.3942\n",
      "Epoch 4/35\n",
      "\u001b[1m144/144\u001b[0m \u001b[32m━━━━━━━━━━━━━━━━━━━━\u001b[0m\u001b[37m\u001b[0m \u001b[1m84s\u001b[0m 586ms/step - accuracy: 0.2018 - loss: 1.4075 - val_accuracy: 0.2778 - val_loss: 1.3728\n",
      "Epoch 5/35\n",
      "\u001b[1m144/144\u001b[0m \u001b[32m━━━━━━━━━━━━━━━━━━━━\u001b[0m\u001b[37m\u001b[0m \u001b[1m76s\u001b[0m 524ms/step - accuracy: 0.1974 - loss: 1.3875 - val_accuracy: 0.3194 - val_loss: 1.3675\n",
      "Epoch 6/35\n",
      "\u001b[1m144/144\u001b[0m \u001b[32m━━━━━━━━━━━━━━━━━━━━\u001b[0m\u001b[37m\u001b[0m \u001b[1m70s\u001b[0m 485ms/step - accuracy: 0.2394 - loss: 1.3945 - val_accuracy: 0.3194 - val_loss: 1.3545\n",
      "Epoch 7/35\n",
      "\u001b[1m144/144\u001b[0m \u001b[32m━━━━━━━━━━━━━━━━━━━━\u001b[0m\u001b[37m\u001b[0m \u001b[1m72s\u001b[0m 498ms/step - accuracy: 0.2374 - loss: 1.3863 - val_accuracy: 0.2917 - val_loss: 1.3485\n",
      "Epoch 8/35\n",
      "\u001b[1m144/144\u001b[0m \u001b[32m━━━━━━━━━━━━━━━━━━━━\u001b[0m\u001b[37m\u001b[0m \u001b[1m70s\u001b[0m 488ms/step - accuracy: 0.2543 - loss: 1.3943 - val_accuracy: 0.3194 - val_loss: 1.3503\n",
      "Epoch 9/35\n",
      "\u001b[1m144/144\u001b[0m \u001b[32m━━━━━━━━━━━━━━━━━━━━\u001b[0m\u001b[37m\u001b[0m \u001b[1m71s\u001b[0m 493ms/step - accuracy: 0.2713 - loss: 1.3637 - val_accuracy: 0.2917 - val_loss: 1.3462\n",
      "Epoch 10/35\n",
      "\u001b[1m144/144\u001b[0m \u001b[32m━━━━━━━━━━━━━━━━━━━━\u001b[0m\u001b[37m\u001b[0m \u001b[1m70s\u001b[0m 488ms/step - accuracy: 0.2326 - loss: 1.3857 - val_accuracy: 0.2917 - val_loss: 1.3403\n",
      "Epoch 11/35\n",
      "\u001b[1m144/144\u001b[0m \u001b[32m━━━━━━━━━━━━━━━━━━━━\u001b[0m\u001b[37m\u001b[0m \u001b[1m74s\u001b[0m 517ms/step - accuracy: 0.2523 - loss: 1.3861 - val_accuracy: 0.2778 - val_loss: 1.3472\n",
      "Epoch 12/35\n",
      "\u001b[1m144/144\u001b[0m \u001b[32m━━━━━━━━━━━━━━━━━━━━\u001b[0m\u001b[37m\u001b[0m \u001b[1m74s\u001b[0m 517ms/step - accuracy: 0.2607 - loss: 1.3632 - val_accuracy: 0.2917 - val_loss: 1.3399\n",
      "Epoch 13/35\n",
      "\u001b[1m144/144\u001b[0m \u001b[32m━━━━━━━━━━━━━━━━━━━━\u001b[0m\u001b[37m\u001b[0m \u001b[1m73s\u001b[0m 504ms/step - accuracy: 0.3080 - loss: 1.3811 - val_accuracy: 0.3056 - val_loss: 1.3363\n",
      "Epoch 14/35\n",
      "\u001b[1m144/144\u001b[0m \u001b[32m━━━━━━━━━━━━━━━━━━━━\u001b[0m\u001b[37m\u001b[0m \u001b[1m72s\u001b[0m 500ms/step - accuracy: 0.2195 - loss: 1.3664 - val_accuracy: 0.2639 - val_loss: 1.3514\n",
      "Epoch 15/35\n",
      "\u001b[1m140/144\u001b[0m \u001b[32m━━━━━━━━━━━━━━━━━━━\u001b[0m\u001b[37m━\u001b[0m \u001b[1m1s\u001b[0m 461ms/step - accuracy: 0.2827 - loss: 1.3680"
     ]
    }
   ],
   "source": [
    "epochs = 35\n",
    "\n",
    "callbacks = [\n",
    "    keras.callbacks.ModelCheckpoint(\"save_at_{epoch}.keras\"),\n",
    "    keras.callbacks.EarlyStopping(monitor=\"val_loss\", patience=5),\n",
    "]\n",
    "\n",
    "# model.load_weights(\"save_at_35.keras\")\n",
    "\n",
    "model.compile(\n",
    "    optimizer=tf.keras.optimizers.Adam(learning_rate=3e-4),\n",
    "    loss='sparse_categorical_crossentropy',\n",
    "    metrics=['accuracy']\n",
    ")\n",
    "\n",
    "\n",
    "history = model.fit(\n",
    "    train_ds,\n",
    "    epochs=epochs,\n",
    "    # callbacks=callbacks,\n",
    "    validation_data=val_ds,\n",
    ")"
   ]
  },
  {
   "cell_type": "code",
   "execution_count": null,
   "metadata": {},
   "outputs": [
    {
     "data": {
      "image/png": "[encoded data removed]",
      "text/plain": [
       "<Figure size 640x480 with 1 Axes>"
      ]
     },
     "metadata": {},
     "output_type": "display_data"
    },
    {
     "data": {
      "image/png": "[encoded data removed]",
      "text/plain": [
       "<Figure size 640x480 with 1 Axes>"
      ]
     },
     "metadata": {},
     "output_type": "display_data"
    }
   ],
   "source": [
    "import matplotlib.pyplot as plt\n",
    "\n",
    "\n",
    "plt.plot(history.history['loss'])\n",
    "plt.plot(history.history['val_loss'])\n",
    "plt.title('Model loss')\n",
    "plt.ylabel('Loss')\n",
    "plt.xlabel('Epoch')\n",
    "plt.legend(['Train', 'Val'], loc='upper left')\n",
    "plt.show()\n",
    "\n",
    "plt.plot(history.history['accuracy'])\n",
    "plt.plot(history.history['val_accuracy'])\n",
    "plt.title('Model accuracy')\n",
    "plt.ylabel('Accuracy')\n",
    "plt.xlabel('Epoch')\n",
    "plt.legend(['Train', 'Val'], loc='upper left')\n",
    "plt.show()"
   ]
  },
  {
   "cell_type": "code",
   "execution_count": 22,
   "metadata": {},
   "outputs": [],
   "source": [
    "data_dir = \"DATA_ORD_2\"\n",
    "slice_range = (58, 122)\n",
    "\n",
    "data, labels = process_directory(data_dir, slice_range)\n",
    "\n",
    "indices = np.arange(data.shape[0])\n",
    "np.random.shuffle(indices)\n",
    "data = data[indices]\n",
    "labels = labels[indices]\n",
    "\n",
    "test_data, test_labels = data, labels\n",
    "batch_size = 2\n",
    "\n",
    "\n",
    "test_ds = tf.data.Dataset.from_tensor_slices((test_data, test_labels)).batch(batch_size)"
   ]
  },
  {
   "cell_type": "code",
   "execution_count": 23,
   "metadata": {},
   "outputs": [
    {
     "name": "stdout",
     "output_type": "stream",
     "text": [
      "\u001b[1m208/208\u001b[0m \u001b[32m━━━━━━━━━━━━━━━━━━━━\u001b[0m\u001b[37m\u001b[0m \u001b[1m31s\u001b[0m 133ms/step - accuracy: 0.1324 - loss: 1.4341\n",
      "Test Loss: 1.445674180984497\n",
      "Test Accuracy: 0.09638553857803345\n"
     ]
    }
   ],
   "source": [
    "test_loss, test_accuracy = model.evaluate(test_ds)\n",
    "print(\"Test Loss:\", test_loss)\n",
    "print(\"Test Accuracy:\", test_accuracy)"
   ]
  },
  {
   "cell_type": "code",
   "execution_count": null,
   "metadata": {},
   "outputs": [],
   "source": []
  },
  {
   "cell_type": "code",
   "execution_count": 30,
   "metadata": {},
   "outputs": [
    {
     "name": "stdout",
     "output_type": "stream",
     "text": [
      "\u001b[1m208/208\u001b[0m \u001b[32m━━━━━━━━━━━━━━━━━━━━\u001b[0m\u001b[37m\u001b[0m \u001b[1m32s\u001b[0m 153ms/step\n"
     ]
    },
    {
     "data": {
      "image/png": "[encoded data removed]",
      "text/plain": [
       "<Figure size 640x480 with 2 Axes>"
      ]
     },
     "metadata": {},
     "output_type": "display_data"
    },
    {
     "name": "stdout",
     "output_type": "stream",
     "text": [
      "\n",
      "Classification Report:\n",
      "               precision    recall  f1-score   support\n",
      "\n",
      "           0       0.81      1.00      0.89       335\n",
      "           1       0.00      0.00      0.00        54\n",
      "           2       0.00      0.00      0.00        21\n",
      "           3       0.00      0.00      0.00         5\n",
      "\n",
      "    accuracy                           0.81       415\n",
      "   macro avg       0.20      0.25      0.22       415\n",
      "weighted avg       0.65      0.81      0.72       415\n",
      "\n"
     ]
    },
    {
     "name": "stderr",
     "output_type": "stream",
     "text": [
      "c:\\Users\\andre\\parkinson\\.conda\\lib\\site-packages\\sklearn\\metrics\\_classification.py:1509: UndefinedMetricWarning: Precision is ill-defined and being set to 0.0 in labels with no predicted samples. Use `zero_division` parameter to control this behavior.\n",
      "  _warn_prf(average, modifier, f\"{metric.capitalize()} is\", len(result))\n",
      "c:\\Users\\andre\\parkinson\\.conda\\lib\\site-packages\\sklearn\\metrics\\_classification.py:1509: UndefinedMetricWarning: Precision is ill-defined and being set to 0.0 in labels with no predicted samples. Use `zero_division` parameter to control this behavior.\n",
      "  _warn_prf(average, modifier, f\"{metric.capitalize()} is\", len(result))\n",
      "c:\\Users\\andre\\parkinson\\.conda\\lib\\site-packages\\sklearn\\metrics\\_classification.py:1509: UndefinedMetricWarning: Precision is ill-defined and being set to 0.0 in labels with no predicted samples. Use `zero_division` parameter to control this behavior.\n",
      "  _warn_prf(average, modifier, f\"{metric.capitalize()} is\", len(result))\n"
     ]
    }
   ],
   "source": [
    "predictions = model.predict(test_ds)\n",
    "import numpy as np\n",
    "from sklearn.metrics import classification_report, confusion_matrix\n",
    "import numpy as np\n",
    "import seaborn as sns\n",
    "from sklearn.metrics import confusion_matrix\n",
    "import matplotlib.pyplot as plt\n",
    "\n",
    "test_labels = np.concatenate([y for x, y in test_ds], axis=0)\n",
    "predicted_labels = np.argmax(predictions, axis=1)\n",
    "conf_matrix = confusion_matrix(test_labels, predicted_labels)\n",
    "\n",
    "class_names = ['PD', 'PODROMAL', 'HEALTHY CONTROLS', 'SWEDD']  # replace with actual class names\n",
    "sns.heatmap(conf_matrix, annot=True, fmt='d', cmap='Blues', xticklabels=class_names, yticklabels=class_names)\n",
    "\n",
    "plt.xlabel('Predicted')\n",
    "plt.ylabel('True')\n",
    "plt.title('Prediction on test set')\n",
    "plt.show()\n",
    "\n",
    "print(\"\\nClassification Report:\\n\", classification_report(test_labels, predicted_labels))"
   ]
  }
 ],
 "metadata": {
  "kernelspec": {
   "display_name": "Python 3",
   "language": "python",
   "name": "python3"
  },
  "language_info": {
   "codemirror_mode": {
    "name": "ipython",
    "version": 3
   },
   "file_extension": ".py",
   "mimetype": "text/x-python",
   "name": "python",
   "nbconvert_exporter": "python",
   "pygments_lexer": "ipython3",
   "version": "3.9.18"
  }
 },
 "nbformat": 4,
 "nbformat_minor": 2
}
